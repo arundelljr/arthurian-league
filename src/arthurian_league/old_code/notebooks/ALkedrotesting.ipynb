{
 "cells": [
  {
   "cell_type": "code",
   "execution_count": 33,
   "id": "3424c1a4-5ab4-44c3-956a-22ee2d2abb29",
   "metadata": {},
   "outputs": [],
   "source": [
    "import requests\n",
    "from bs4 import BeautifulSoup\n",
    "import json\n",
    "from kedro.io import DataCatalog\n",
    "\n",
    "# Scrape web html\n",
    "def _get_url_soup(link):\n",
    "    response = requests.get(link)\n",
    "    soup = BeautifulSoup(response.content, \"html.parser\")\n",
    "    return soup\n",
    "\n",
    "\n",
    "# Extract the season links and store IDs and names in dictionary/json AND SAVE AS A FILE SO IT CAN BE STORED IN THE DATASET\n",
    "def _extract_season_ids(soup):\n",
    "    select_element = soup.find(\"select\", id=\"form1_selectedSeason\")\n",
    "    season_elements = select_element.find_all(\"option\")\n",
    "    season_ids = {}\n",
    "    for element in season_elements:\n",
    "        season_id = element['value']  # Extract the season ID\n",
    "        season_name = element.text.strip()  # Get the season name\n",
    "        season_ids[season_id] = season_name  # Store with ID as key\n",
    "    return season_ids\n",
    "\n",
    "\n",
    "def _save_to_json(dictionary: dict, catalog: DataCatalog, dataset: str):\n",
    "    #Save json file so that it can be loaded in later \n",
    "    catalog.save(dictionary, dataset)"
   ]
  },
  {
   "cell_type": "code",
   "execution_count": 36,
   "id": "fc8c584f-f4e2-41a2-8d02-c42011f81f71",
   "metadata": {},
   "outputs": [
    {
     "ename": "NameError",
     "evalue": "name 'catalog' is not defined",
     "output_type": "error",
     "traceback": [
      "\u001b[1;31m---------------------------------------------------------------------------\u001b[0m",
      "\u001b[1;31mNameError\u001b[0m                                 Traceback (most recent call last)",
      "Cell \u001b[1;32mIn[36], line 6\u001b[0m\n\u001b[0;32m      2\u001b[0m soup \u001b[38;5;241m=\u001b[39m _get_url_soup(\u001b[38;5;124m\"\u001b[39m\u001b[38;5;124mhttps://fulltime.thefa.com/index.html?league=847518011&selectedSeason=249912101&selectedDivision=272973748&selectedCompetition=0&selectedFixtureGroupKey=1_467585716\u001b[39m\u001b[38;5;124m\"\u001b[39m)\n\u001b[0;32m      4\u001b[0m season_ids \u001b[38;5;241m=\u001b[39m _extract_season_ids(soup) \n\u001b[1;32m----> 6\u001b[0m _save_to_json(season_ids, \u001b[43mcatalog\u001b[49m, \u001b[38;5;124m\"\u001b[39m\u001b[38;5;124mseason_ids\u001b[39m\u001b[38;5;124m\"\u001b[39m) \n",
      "\u001b[1;31mNameError\u001b[0m: name 'catalog' is not defined"
     ]
    }
   ],
   "source": [
    "# Scrape the season IDs and names\n",
    "soup = _get_url_soup(\"https://fulltime.thefa.com/index.html?league=847518011&selectedSeason=249912101&selectedDivision=272973748&selectedCompetition=0&selectedFixtureGroupKey=1_467585716\")\n",
    "\n",
    "season_ids = _extract_season_ids(soup) \n",
    "\n",
    "_save_to_json(season_ids, catalog, \"season_ids\") "
   ]
  },
  {
   "cell_type": "code",
   "execution_count": 28,
   "id": "88338c1b-8a93-438f-88a2-56d330fa5411",
   "metadata": {},
   "outputs": [
    {
     "name": "stdout",
     "output_type": "stream",
     "text": [
      "{'249912101': '2012-13', '548382721': '2013-14', '758918628': '2014-15', '608145920': '2015-16', '297987566': '2016-17', '882260688': '2017-18', '211813707': '2018-19', '983214482': '2019-20', '580529019': '2020-21', '739101976': '2021-22', '662359190': '2022-23', '995845630': '2023-24', '572282993': '2024-25'}\n"
     ]
    }
   ],
   "source": [
    "print(season_ids)"
   ]
  },
  {
   "cell_type": "code",
   "execution_count": null,
   "id": "b79dd5c5-d2a5-40a8-a4d0-98deadae87cb",
   "metadata": {},
   "outputs": [],
   "source": [
    "from kedro.pipeline import Pipeline, node\n",
    "\n",
    "# Define the pipeline\n",
    "pipeline = Pipeline([\n",
    "    node(\n",
    "        func=_save_to_json,\n",
    "        inputs=dict(\n",
    "            season_ids=\"season_ids\",\n",
    "            catalog=\"catalog\",\n",
    "            dataset_name=\"params:season_ids_dataset\"\n",
    "        ),\n",
    "        outputs=None,\n",
    "        name=\"save_season_ids_node\"\n",
    "    )\n",
    "])"
   ]
  }
 ],
 "metadata": {
  "kernelspec": {
   "display_name": "Python 3 (ipykernel)",
   "language": "python",
   "name": "python3"
  },
  "language_info": {
   "codemirror_mode": {
    "name": "ipython",
    "version": 3
   },
   "file_extension": ".py",
   "mimetype": "text/x-python",
   "name": "python",
   "nbconvert_exporter": "python",
   "pygments_lexer": "ipython3",
   "version": "3.12.6"
  }
 },
 "nbformat": 4,
 "nbformat_minor": 5
}
