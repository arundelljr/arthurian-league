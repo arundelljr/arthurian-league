{
 "cells": [
  {
   "cell_type": "code",
   "execution_count": 1,
   "id": "eebc25c5-3957-4662-a839-dfda1c4840cb",
   "metadata": {},
   "outputs": [
    {
     "name": "stdout",
     "output_type": "stream",
     "text": [
      "Fixture_ID      int64\n",
      "Season         object\n",
      "Competition    object\n",
      "Date           object\n",
      "Home_Team      object\n",
      "Away_Team      object\n",
      "Score          object\n",
      "Homegoals      object\n",
      "Awaygoals      object\n",
      "dtype: object\n"
     ]
    }
   ],
   "source": [
    "# Import csv, pandas and numpy\n",
    "import pandas as pd\n",
    "import numpy as np\n",
    "\n",
    "al_df = pd.read_csv(r\"C:\\Users\\arund\\Prospect_week\\al_historical_results.csv\")\n",
    "al_df.head()\n",
    "\n",
    "# Check dataframe description and data types\n",
    "print(al_df.dtypes)\n"
   ]
  },
  {
   "cell_type": "code",
   "execution_count": 2,
   "id": "38378fa9-0005-4137-a70c-f4ab264fa730",
   "metadata": {},
   "outputs": [
    {
     "name": "stdout",
     "output_type": "stream",
     "text": [
      "   Fixture_ID   Season Competition       Date          Home_Team  \\\n",
      "0    12649002  2012-13        DIV5 2013-05-25  Old Brentwoods IV   \n",
      "1    12649001  2012-13        DIV5 2013-05-18  Old Brentwoods IV   \n",
      "2    12637620  2012-13        PREM 2013-05-11   Lancing Old Boys   \n",
      "3    12639446  2012-13        PREM 2013-05-11       Old Etonians   \n",
      "4    12639447  2012-13        DIV1 2013-05-11    Old Malvernians   \n",
      "\n",
      "            Away_Team  Homegoals  Awaygoals Comments  \n",
      "0    Old Foresters IV          8          4      NaN  \n",
      "1  Old Brentwoods III          5          3      NaN  \n",
      "2        KCS Old Boys          1          1      NaN  \n",
      "3    Old Chigwellians          4          0      NaN  \n",
      "4   Old Haileyburians          1          3      NaN  \n",
      "   Fixture_ID   Season Competition       Date          Home_Team  \\\n",
      "0    12649002  2012-13        DIV5 2013-05-25  Old Brentwoods IV   \n",
      "1    12649001  2012-13        DIV5 2013-05-18  Old Brentwoods IV   \n",
      "2    12637620  2012-13        PREM 2013-05-11   Lancing Old Boys   \n",
      "3    12639446  2012-13        PREM 2013-05-11       Old Etonians   \n",
      "4    12639447  2012-13        DIV1 2013-05-11    Old Malvernians   \n",
      "\n",
      "            Away_Team  Homegoals  Awaygoals Comments  \n",
      "0    Old Foresters IV          8          4      NaN  \n",
      "1  Old Brentwoods III          5          3      NaN  \n",
      "2        KCS Old Boys          1          1      NaN  \n",
      "3    Old Chigwellians          4          0      NaN  \n",
      "4   Old Haileyburians          1          3      NaN  \n",
      "    Fixture_ID   Season Competition       Date            Home_Team  \\\n",
      "7     12631636  2012-13        DIV4 2013-05-11    Old Amplefordians   \n",
      "30    12638917  2012-13        DIV2 2013-04-27  Old Carthusians III   \n",
      "53    12631551  2012-13        DIV5 2013-04-14         Old Citizens   \n",
      "69    12626280  2012-13        DIV5 2013-04-13   Old Malvernians II   \n",
      "89    12626933  2012-13        DIV5 2013-03-30   Old Malvernians II   \n",
      "\n",
      "              Away_Team  Homegoals  Awaygoals       Comments  \n",
      "7   Old Westminsters II       <NA>       <NA>  Away Walkover  \n",
      "30     Old Salopians II       <NA>       <NA>  Home Walkover  \n",
      "53  Old Chigwellians IV       <NA>       <NA>  Home Walkover  \n",
      "69     Old Foresters IV       <NA>       <NA>  Home Walkover  \n",
      "89  Old Cholmeleians IV       <NA>       <NA>  Home Walkover  \n"
     ]
    }
   ],
   "source": [
    "# Convert Date to pandas datetime type\n",
    "al_df['Date'] = pd.to_datetime(al_df['Date'], format='%d/%m/%y')\n",
    "\n",
    "# Create Comments column for descriptions of atypical results from Score column\n",
    "# Convert Homegoals and Awaygoals to numeric type (nulls for descriptive entries) and then to Int64\n",
    "# Drop Score column\n",
    "# Check datatypes\n",
    "\n",
    "al_df['Comments'] = np.where(al_df['Score'].str.contains(r'\\d', na=False), np.nan, al_df['Score'])\n",
    "\n",
    "al_df['Homegoals'] = pd.to_numeric(al_df['Homegoals'], errors='coerce')\n",
    "al_df['Awaygoals'] = pd.to_numeric(al_df['Awaygoals'], errors='coerce')\n",
    "\n",
    "al_df['Homegoals'] = al_df['Homegoals'].astype('Int64')\n",
    "al_df['Awaygoals'] = al_df['Awaygoals'].astype('Int64')\n",
    "\n",
    "al_df.drop('Score', axis=1, inplace=True)\n",
    "\n",
    "# Create separate dataframes for normal and unexpected results\n",
    "results_other = al_df.dropna(subset=['Comments'])\n",
    "results_normal = al_df.dropna(subset=['Homegoals'])\n",
    "\n",
    "print(al_df.head())\n",
    "print(results_normal.head())\n",
    "print(results_other.head())"
   ]
  },
  {
   "cell_type": "code",
   "execution_count": 3,
   "id": "c1a84a0e-8ad3-4edf-8d90-fb13998d9cc9",
   "metadata": {},
   "outputs": [
    {
     "name": "stdout",
     "output_type": "stream",
     "text": [
      "   Fixture_ID   Season Competition       Date          Home_Team  \\\n",
      "0    12649002  2012-13        DIV5 2013-05-25  Old Brentwoods IV   \n",
      "1    12649001  2012-13        DIV5 2013-05-18  Old Brentwoods IV   \n",
      "2    12637620  2012-13        PREM 2013-05-11   Lancing Old Boys   \n",
      "3    12639446  2012-13        PREM 2013-05-11       Old Etonians   \n",
      "4    12639447  2012-13        DIV1 2013-05-11    Old Malvernians   \n",
      "\n",
      "            Away_Team  Homegoals  Awaygoals  \n",
      "0    Old Foresters IV          8          4  \n",
      "1  Old Brentwoods III          5          3  \n",
      "2        KCS Old Boys          1          1  \n",
      "3    Old Chigwellians          4          0  \n",
      "4   Old Haileyburians          1          3  \n",
      "    Fixture_ID   Season Competition       Date            Home_Team  \\\n",
      "7     12631636  2012-13        DIV4 2013-05-11    Old Amplefordians   \n",
      "30    12638917  2012-13        DIV2 2013-04-27  Old Carthusians III   \n",
      "53    12631551  2012-13        DIV5 2013-04-14         Old Citizens   \n",
      "69    12626280  2012-13        DIV5 2013-04-13   Old Malvernians II   \n",
      "89    12626933  2012-13        DIV5 2013-03-30   Old Malvernians II   \n",
      "\n",
      "              Away_Team       Comments  \n",
      "7   Old Westminsters II  Away Walkover  \n",
      "30     Old Salopians II  Home Walkover  \n",
      "53  Old Chigwellians IV  Home Walkover  \n",
      "69     Old Foresters IV  Home Walkover  \n",
      "89  Old Cholmeleians IV  Home Walkover  \n"
     ]
    },
    {
     "name": "stderr",
     "output_type": "stream",
     "text": [
      "C:\\Users\\arund\\AppData\\Local\\Temp\\ipykernel_34412\\3643761920.py:2: SettingWithCopyWarning: \n",
      "A value is trying to be set on a copy of a slice from a DataFrame\n",
      "\n",
      "See the caveats in the documentation: https://pandas.pydata.org/pandas-docs/stable/user_guide/indexing.html#returning-a-view-versus-a-copy\n",
      "  results_normal.drop('Comments', axis=1, inplace=True)\n",
      "C:\\Users\\arund\\AppData\\Local\\Temp\\ipykernel_34412\\3643761920.py:3: SettingWithCopyWarning: \n",
      "A value is trying to be set on a copy of a slice from a DataFrame\n",
      "\n",
      "See the caveats in the documentation: https://pandas.pydata.org/pandas-docs/stable/user_guide/indexing.html#returning-a-view-versus-a-copy\n",
      "  results_other.drop(['Homegoals', 'Awaygoals'], axis=1, inplace=True)\n"
     ]
    }
   ],
   "source": [
    "# Drop uneccessary columns from new dataframes\n",
    "results_normal.drop('Comments', axis=1, inplace=True)\n",
    "results_other.drop(['Homegoals', 'Awaygoals'], axis=1, inplace=True)\n",
    "print(results_normal.head())\n",
    "print(results_other.head())"
   ]
  },
  {
   "cell_type": "code",
   "execution_count": 4,
   "id": "779b35e6-28b8-436b-874b-cb87cacb9133",
   "metadata": {},
   "outputs": [
    {
     "data": {
      "text/plain": [
       "True"
      ]
     },
     "execution_count": 4,
     "metadata": {},
     "output_type": "execute_result"
    }
   ],
   "source": [
    "import os\n",
    "al_df.to_csv(\"al_data.csv\")\n",
    "results_normal.to_csv(\"al_results_normal.csv\")\n",
    "results_other.to_csv(\"al_results_other.csv\")\n",
    "\n",
    "os.path.exists(\"al_data.csv\")\n",
    "os.path.exists(\"al_results_normal.csv\")\n",
    "os.path.exists(\"al_results_other.csv\")"
   ]
  },
  {
   "cell_type": "code",
   "execution_count": null,
   "id": "754867fc-90c5-4359-9cdb-8569c94b29dc",
   "metadata": {},
   "outputs": [],
   "source": []
  }
 ],
 "metadata": {
  "kernelspec": {
   "display_name": "Python 3 (ipykernel)",
   "language": "python",
   "name": "python3"
  },
  "language_info": {
   "codemirror_mode": {
    "name": "ipython",
    "version": 3
   },
   "file_extension": ".py",
   "mimetype": "text/x-python",
   "name": "python",
   "nbconvert_exporter": "python",
   "pygments_lexer": "ipython3",
   "version": "3.12.6"
  }
 },
 "nbformat": 4,
 "nbformat_minor": 5
}
