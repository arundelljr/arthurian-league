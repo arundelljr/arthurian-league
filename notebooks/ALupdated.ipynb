{
 "cells": [
  {
   "cell_type": "code",
   "execution_count": 11,
   "id": "c6d119af-247d-43c7-8ff7-bdb733a1b556",
   "metadata": {},
   "outputs": [],
   "source": [
    "import requests\n",
    "from bs4 import BeautifulSoup\n",
    "import pandas as pd\n",
    "\n",
    "# Scrape the season IDs and names\n",
    "\n",
    "def _get_url_soup(link):\n",
    "    response = requests.get(link)\n",
    "    soup = BeautifulSoup(response.content, \"html.parser\")\n",
    "    return soup\n",
    "\n",
    "def _extract_html_attribute(loop_item, html_tag1, html_class1, html_tag2=None, html_class2=None):\n",
    "   # Find the primary tag and class\n",
    "    primary_element = loop_item.find(html_tag1, class_=html_class1)\n",
    "\n",
    "    # If a second tag is specified, find it inside the primary element\n",
    "    if html_tag2:\n",
    "        if html_class2:\n",
    "            secondary_element = primary_element.find(html_tag2, class_=html_class2)\n",
    "        else:\n",
    "            secondary_element = primary_element.find(html_tag2)\n",
    "        return secondary_element.text.strip()\n",
    "    # If no second tag, extract from the primary element\n",
    "    return primary_element.text.strip()\n",
    "\n",
    "\n",
    "def _clean_score(df, column):\n",
    "    df[column] = df[column].astype(str)\n",
    "    df[column] = df[column].str.split('\\r').str[0].str.strip()\n",
    "\n",
    "\n",
    "def _extract_home(f_value):\n",
    "    hyphen_index = f_value.find(\"-\")\n",
    "    return f_value[:hyphen_index] if hyphen_index != -1 else None\n",
    "\n",
    "\n",
    "def _extract_away(f_value):\n",
    "    hyphen_index = f_value.find(\"-\")\n",
    "    return f_value[hyphen_index + 1:] if hyphen_index != -1 else None\n",
    "\n",
    "\n",
    "def _create_goals_col(df, new_col, func):\n",
    "    df[new_col] = df['Score'].apply(func)\n"
   ]
  },
  {
   "cell_type": "code",
   "execution_count": 14,
   "id": "be5bc61e-dd6b-4b82-9b2c-ea691162cf1e",
   "metadata": {},
   "outputs": [
    {
     "name": "stdout",
     "output_type": "stream",
     "text": [
      "Scraping season: 2012-13\n",
      "Scraping season: 2013-14\n",
      "Scraping season: 2014-15\n",
      "Scraping season: 2015-16\n",
      "Scraping season: 2016-17\n",
      "Scraping season: 2017-18\n",
      "Scraping season: 2018-19\n",
      "Scraping season: 2019-20\n",
      "Scraping season: 2020-21\n",
      "Scraping season: 2021-22\n",
      "Scraping season: 2022-23\n",
      "Scraping season: 2023-24\n",
      "Scraping season: 2024-25\n",
      "     Fixture_ID   Season Competition      Date  \\\n",
      "0      12649002  2012-13        DIV5  25/05/13   \n",
      "1      12649001  2012-13        DIV5  18/05/13   \n",
      "2      12637620  2012-13        PREM  11/05/13   \n",
      "3      12639446  2012-13        PREM  11/05/13   \n",
      "4      12639447  2012-13        DIV1  11/05/13   \n",
      "...         ...      ...         ...       ...   \n",
      "9014   27109896  2024-25        SCHL  07/09/24   \n",
      "9015   27109901  2024-25        SCHL  07/09/24   \n",
      "9016   27109902  2024-25        SCHL  07/09/24   \n",
      "9017   27109903  2024-25        SCHL  07/09/24   \n",
      "9018   27109904  2024-25        SCHL  07/09/24   \n",
      "\n",
      "                           Home_Team            Away_Team  Score Homegoals  \\\n",
      "0                  Old Brentwoods IV     Old Foresters IV  8 - 4        8    \n",
      "1                  Old Brentwoods IV   Old Brentwoods III  5 - 3        5    \n",
      "2                   Lancing Old Boys         KCS Old Boys  1 - 1        1    \n",
      "3                       Old Etonians     Old Chigwellians  4 - 0        4    \n",
      "4                    Old Malvernians    Old Haileyburians  1 - 3        1    \n",
      "...                              ...                  ...    ...       ...   \n",
      "9014          Highgate School 2nd XI  Old Cholmeleians II  0 - 0        0    \n",
      "9015  Kingston Grammar School 1st XI     Old Kingstonians  1 - 2        1    \n",
      "9016       Wellington College 1st XI   Old Wellingtonians   Void      None   \n",
      "9017       Westminster School 1st XI     Old Westminsters  0 - 2        0    \n",
      "9018       Westminster School 2nd XI  Old Westminsters II  0 - 5        0    \n",
      "\n",
      "     Awaygoals  \n",
      "0            4  \n",
      "1            3  \n",
      "2            1  \n",
      "3            0  \n",
      "4            3  \n",
      "...        ...  \n",
      "9014         0  \n",
      "9015         2  \n",
      "9016      None  \n",
      "9017         2  \n",
      "9018         5  \n",
      "\n",
      "[9019 rows x 9 columns]\n"
     ]
    }
   ],
   "source": [
    "import requests\n",
    "from bs4 import BeautifulSoup\n",
    "import pandas as pd\n",
    "\n",
    "# Create an empty list to store data\n",
    "all_data = []\n",
    "\n",
    "# Scrape the season IDs and names\n",
    "soup = _get_url_soup(\"https://fulltime.thefa.com/index.html?league=847518011&selectedSeason=249912101&selectedDivision=272973748&selectedCompetition=0&selectedFixtureGroupKey=1_467585716\")\n",
    "\n",
    "# Find the elements that contain the season links and IDs\n",
    "select_element = soup.find(\"select\", id=\"form1_selectedSeason\")\n",
    "season_elements = select_element.find_all(\"option\")\n",
    "\n",
    "# Create a dictionary to hold season names and IDs\n",
    "seasons = {}\n",
    "for element in season_elements:\n",
    "    season_id = element['value']  # Extract the season ID\n",
    "    season_name = element.text.strip()  # Get the season name\n",
    "    seasons[season_id] = season_name  # Store with ID as key\n",
    "\n",
    "# Loop through each season and scrape data\n",
    "for season_id, season_name in seasons.items():\n",
    "    print(f\"Scraping season: {season_name}\")  # Print season being scraped\n",
    "\n",
    "    soup = _get_url_soup(f\"https://fulltime.thefa.com/results/1/10000.html?selectedSeason={season_id}&selectedFixtureGroupAgeGroup=0&previousSelectedFixtureGroupAgeGroup=&selectedFixtureGroupKey=&previousSelectedFixtureGroupKey=&selectedDateCode=all&selectedRelatedFixtureOption=2&selectedClub=&previousSelectedClub=&selectedTeam=\")\n",
    "    \n",
    "    # Find all fixtures inside the 'tbody' class\n",
    "    fixtures = soup.find_all(\"div\", class_=\"tbody\")[0].find_all(\"div\", id=lambda x: x and x.startswith(\"fixture-\"))\n",
    "\n",
    "    # Extract competition, date, home team, away team, score for each fixture\n",
    "    for fixture in fixtures:\n",
    "        fixture_id = fixture['id'].split(\"fixture-\")[1]\n",
    "        competition = _extract_html_attribute(fixture, \"div\", \"type-col\", \"p\")\n",
    "        home_team = _extract_html_attribute(fixture, \"div\", \"home-team-col\", \"div\", \"team-name\")\n",
    "        away_team = _extract_html_attribute(fixture, \"div\", \"road-team-col\", \"div\", \"team-name\")\n",
    "        date = _extract_html_attribute(fixture, \"div\", \"datetime-col\", \"span\")\n",
    "        score = _extract_html_attribute(fixture, \"div\", \"score-col\")\n",
    "\n",
    "        # Append data, including the season name\n",
    "        all_data.append([fixture_id, season_name, competition, date, home_team, away_team, score]) \n",
    "\n",
    "# Store data in a pandas DataFrame\n",
    "fixtures_df = pd.DataFrame(all_data, columns=[\"Fixture_ID\", \"Season\", \"Competition\", \"Date\", \"Home_Team\", \"Away_Team\", \"Score\"])  \n",
    "\n",
    "# Clean Score column\n",
    "_clean_column(fixtures_df, 'Score')\n",
    "\n",
    "# Extract Home and Away goal columns\n",
    "_create_goals_col(fixtures_df, 'Homegoals', _extract_home)\n",
    "_create_goals_col(fixtures_df, 'Awaygoals', _extract_away)\n",
    "\n",
    "print(fixtures_df)\n",
    "\n",
    "# Save as CSV\n",
    "fixtures_df.to_csv(\"al_historical_results.csv\", index=False)"
   ]
  },
  {
   "cell_type": "code",
   "execution_count": 382,
   "id": "33ca4464-3bfb-4ef5-b6b3-4a9a841489ad",
   "metadata": {},
   "outputs": [],
   "source": [
    "import requests\n",
    "from bs4 import BeautifulSoup\n",
    "import pandas as pd\n",
    "\n",
    "def _get_url_soup(link):\n",
    "    response = requests.get(link)\n",
    "    soup = BeautifulSoup(response.content, \"html.parser\")\n",
    "    return soup\n",
    "\n",
    "url = 'https://fulltime.thefa.com/results.html?selectedSeason=572282993&selectedFixtureGroupAgeGroup=0&selectedFixtureGroupKey=&selectedRelatedFixtureOption=3&selectedClub=&selectedTeam=&selectedDateCode=all&previousSelectedFixtureGroupAgeGroup=&previousSelectedFixtureGroupKey=1_797104032&previousSelectedClub='\n",
    "\n",
    "soup = _get_url_soup(url)\n",
    "\n"
   ]
  },
  {
   "cell_type": "code",
   "execution_count": 383,
   "id": "15bba340-ddd9-42cb-a4d1-738be4ef7e8a",
   "metadata": {},
   "outputs": [
    {
     "name": "stdout",
     "output_type": "stream",
     "text": [
      "['27099161', '27099206', '27099162', '27099198', '27625726', '27625721', '27625722', '27625735', '27625736', '27382017', '27625739', '27618290', '27478132', '27411820', '27604747', '27604435', '27411819', '27604547', '27618427', '27618436', '27477761', '27583353', '27625690', '27625688', '27625689']\n"
     ]
    }
   ],
   "source": [
    "# Explore table\n",
    "table = soup.find(class_=\"tbody\")\n",
    "\n",
    "# Find and extract fixture ids\n",
    "_list = table.find_all()\n",
    "\n",
    "fixture_ids = []\n",
    "\n",
    "for fixture in _list:\n",
    "    if fixture.get('id') is not None:\n",
    "        ids = fixture.get('id').split(\"fixture-\")[1]\n",
    "        fixture_ids.append(ids)\n",
    "\n",
    "print(fixture_ids)"
   ]
  },
  {
   "cell_type": "code",
   "execution_count": 200,
   "id": "ec53ad5d-8a79-451e-bad4-4141dec62c94",
   "metadata": {},
   "outputs": [
    {
     "name": "stdout",
     "output_type": "stream",
     "text": [
      "0 - 1\n"
     ]
    }
   ],
   "source": [
    "# Explore soup\n",
    "table = soup.find(class_=\"tbody\")\n",
    "pretty_table = table.prettify()\n",
    "\n",
    "# Find element\n",
    "_list = table.find_all(class_=\"score-col\")\n",
    "\n",
    "# Extract element\n",
    "element = _list[5].text.strip()\n",
    "\n",
    "print(element)"
   ]
  },
  {
   "cell_type": "code",
   "execution_count": 297,
   "id": "83ab3792-7986-4039-a09f-d0e15975a3ca",
   "metadata": {},
   "outputs": [],
   "source": [
    "# Find scores\n",
    "scores = table.find_all(class_=\"score-col\")\n",
    "# Find date and time\n",
    "dates = table.find_all(class_=\"datetime-col\")\n",
    "# Find competition\n",
    "full_comps = table.find_all(\"p\", class_=\"smaller\")\n",
    "abrv_comps = table.find_all(class_=\"type-col\")\n",
    "# Find Home Team\n",
    "home_teams = table.find_all(class_=\"home-team-col\")\n",
    "# Find Away Team\n",
    "away_teams = table.find_all(class_=\"road-team-col\")\n",
    "\n",
    "\n",
    "# Inspect element\n",
    "# element = full_comps[2].text.strip()\n",
    "# print(home_teams)"
   ]
  },
  {
   "cell_type": "code",
   "execution_count": 291,
   "id": "43af6109-24e6-44a1-974c-4f0a2386c484",
   "metadata": {},
   "outputs": [
    {
     "name": "stdout",
     "output_type": "stream",
     "text": [
      "['Derrick Moore Veterans Cup_2024 - 2025', 'Derrick Moore Veterans Cup_2024 - 2025', 'Derrick Moore Veterans Cup_2024 - 2025', 'Derrick Moore Veterans Cup_2024 - 2025', 'Division 1', 'Division 1', 'Division 1', 'Division 2', 'Division 2', 'Division 3', 'Division 5', 'David Woolcott Trophy_2024 - 2025', 'David Woolcott Trophy_2024 - 2025', 'Junior League Cup_2024 - 2025', 'Junior League Cup_2024 - 2025', 'Junior League Cup_2024 - 2025', 'Junior League Cup_2024 - 2025', 'Junior League Cup_2024 - 2025', 'Old Boys Senior Cup', 'Old Boys Senior Cup', 'Old Boys Junior Cup', 'Old Boys Minor Cup', 'Division 1', 'Division 1', 'Division 1']\n"
     ]
    }
   ],
   "source": [
    "# Extract list of elements\n",
    "element_list = []\n",
    "\n",
    "for element in full_comps:\n",
    "    fixture_element = element.text.strip()\n",
    "    element_list.append(fixture_element)\n",
    "\n",
    "print(element_list)"
   ]
  },
  {
   "cell_type": "code",
   "execution_count": 380,
   "id": "2844a2e1-9bac-4174-b340-bdf5f9865d2c",
   "metadata": {},
   "outputs": [],
   "source": [
    "def _find_elements(tag1, tag2=\"div\"):\n",
    "    # Find element\n",
    "    _list = table.find_all(tag2, class_=tag1)\n",
    "    return _list\n",
    "\n",
    "def _extract_elements(element_xml):\n",
    "    _list = []\n",
    "    for element in element_xml:\n",
    "        fixture_elements = element.text.strip()\n",
    "        _list.append(fixture_elements)\n",
    "    return _list"
   ]
  },
  {
   "cell_type": "code",
   "execution_count": 378,
   "id": "8a3e4df1-1df0-4a4b-a0bc-1b97e1995b46",
   "metadata": {},
   "outputs": [],
   "source": [
    "test_find = _find_element(\"road-team-col\")\n",
    "test_extract = _extract_element(test_find)"
   ]
  },
  {
   "cell_type": "code",
   "execution_count": 379,
   "id": "1827d0fb-e76f-430d-822b-34dfc947d33e",
   "metadata": {},
   "outputs": [
    {
     "data": {
      "text/plain": [
       "['Old Chigwellians Veterans',\n",
       " 'Old Malvernians Vets',\n",
       " 'Old Brentwoods Vets',\n",
       " 'Old Etonians Vets',\n",
       " 'Old Rugbeians',\n",
       " 'Old Chigwellians',\n",
       " 'Old Salopians',\n",
       " 'Old Cholmeleians II',\n",
       " 'Lancing Old Boys',\n",
       " 'Old Brentwoods III',\n",
       " 'Old Wellingtonians',\n",
       " 'Old Wykehamists II',\n",
       " 'Old Harrovians III',\n",
       " 'Old Albanians',\n",
       " 'Old Alleynians II',\n",
       " 'Old Malvernians',\n",
       " 'Old Aldenhamians',\n",
       " 'Old Stoics',\n",
       " 'Old Bradfieldians',\n",
       " 'Old Brentwoods',\n",
       " 'Old Brentwoods II',\n",
       " 'Old Chigwellians II',\n",
       " 'Old Kimboltonians',\n",
       " 'Old Ardinians',\n",
       " 'Old Harrovians']"
      ]
     },
     "execution_count": 379,
     "metadata": {},
     "output_type": "execute_result"
    }
   ],
   "source": [
    "test_extract"
   ]
  },
  {
   "cell_type": "code",
   "execution_count": 395,
   "id": "23629a1b-7bb2-4a08-8d9f-ab6a0d9a7f0e",
   "metadata": {},
   "outputs": [],
   "source": [
    "def _extract_element(table, secondary_tag, primary_tag=\"div\"):\n",
    "    data = [] # Create empty list\n",
    "    _list = table.find_all(primary_tag, class_=secondary_tag) # Find element within soup\n",
    "\n",
    "    for element in _list:\n",
    "        fixture_elements = element.text.strip()\n",
    "        data.append(fixture_elements)\n",
    "    return data"
   ]
  },
  {
   "cell_type": "code",
   "execution_count": 392,
   "id": "f52d7413-8aa5-402e-82d5-ce415ef18713",
   "metadata": {},
   "outputs": [
    {
     "data": {
      "text/plain": [
       "['12/01/25\\n11:00',\n",
       " '12/01/25\\n11:00',\n",
       " '12/01/25\\n10:30',\n",
       " '12/01/25\\n10:30',\n",
       " '11/01/25\\n12:15',\n",
       " '11/01/25\\n12:15',\n",
       " '11/01/25\\n12:00',\n",
       " '11/01/25\\n14:00',\n",
       " '11/01/25\\n11:30',\n",
       " '11/01/25\\n10:30',\n",
       " '11/01/25\\n12:00',\n",
       " '11/01/25\\n12:00',\n",
       " '11/01/25\\n10:45',\n",
       " '11/01/25\\n14:00',\n",
       " '11/01/25\\n14:00',\n",
       " '11/01/25\\n12:45',\n",
       " '11/01/25\\n11:15',\n",
       " '11/01/25\\n10:00',\n",
       " '11/01/25\\n13:30',\n",
       " '11/01/25\\n13:30',\n",
       " '11/01/25\\n13:30',\n",
       " '11/01/25\\n11:00',\n",
       " '04/01/25\\n12:15',\n",
       " '04/01/25\\n11:00',\n",
       " '04/01/25\\n10:45']"
      ]
     },
     "execution_count": 392,
     "metadata": {},
     "output_type": "execute_result"
    }
   ],
   "source": [
    "_extract_element(table, \"datetime-col\")"
   ]
  },
  {
   "cell_type": "code",
   "execution_count": null,
   "id": "c51d0619-eb78-46e8-aa29-6576589585f5",
   "metadata": {},
   "outputs": [],
   "source": []
  }
 ],
 "metadata": {
  "kernelspec": {
   "display_name": "Python 3 (ipykernel)",
   "language": "python",
   "name": "python3"
  },
  "language_info": {
   "codemirror_mode": {
    "name": "ipython",
    "version": 3
   },
   "file_extension": ".py",
   "mimetype": "text/x-python",
   "name": "python",
   "nbconvert_exporter": "python",
   "pygments_lexer": "ipython3",
   "version": "3.12.6"
  }
 },
 "nbformat": 4,
 "nbformat_minor": 5
}
